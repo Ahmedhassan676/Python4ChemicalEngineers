{
 "cells": [
  {
   "cell_type": "code",
   "execution_count": 2,
   "metadata": {},
   "outputs": [],
   "source": [
    "from scipy.optimize import minimize\n",
    "import numpy as np\n",
    "import pandas as pd\n",
    "import pyomo.environ as pyo"
   ]
  },
  {
   "cell_type": "markdown",
   "metadata": {},
   "source": [
    "\n",
    "**<u>LP Problem</u>**\n",
    "\n",
    "**Example 4.6 in Book Practical chemical process optimization P. 216: Power Plant <br>**\n",
    "<a href=\"https://ibb.co/hW5Z5R2\"><img src=\"https://i.ibb.co/MVTGTDP/power-plant.png\" alt=\"power-plant\" border=\"0\"></a> <br>\n",
    "A power plant uses an extraction turbine that receives m<sub>s</sub> =\n",
    "200 t/hr of superheated steam at 454 C and 60 atm.\n",
    "\n",
    "the electrical power generated is given by the following equation:\n",
    "\n",
    "P<sub>el</sub>­ (MW) = 0.4 m<sub>s</sub> – 0.38 m<sub>HP</sub> – 0.35\n",
    "m<sub>LP</sub>\n",
    "\n",
    "where m<sub>HP</sub> is the production rate of high-pressure steam\n",
    "(t/hr) and m<sub>LP</sub> is the production rate of low-pressure steam\n",
    "(t/hr). the operating constraint are the following:\n",
    "\n",
    "\\[1\\] At least 15 t/hr of LP steam must be produced\n",
    "\n",
    "\\[2\\] HL steam production of LP steam production ration must be at least\n",
    "4:3.\n",
    "\n",
    "\\[3\\] The maximum amount of LP and HP steam that can be produced is 50%\n",
    "of the saturated steam fed to the unit.\n",
    "\n",
    "The selling price of electricity is 0.1 \\$/kWh. LP steam can be sold for\n",
    "20 \\$/t and HP steam for 25 \\$/t. Maximize the profit of the operation"
   ]
  },
  {
   "cell_type": "code",
   "execution_count": 3,
   "metadata": {},
   "outputs": [
    {
     "name": "stdout",
     "output_type": "stream",
     "text": [
      "3 Var Declarations\n",
      "    mHP : Size=1, Index=None\n",
      "        Key  : Lower : Value : Upper : Fixed : Stale : Domain\n",
      "        None :     0 :  85.0 :  None : False : False : NonNegativeReals\n",
      "    mLP : Size=1, Index=None\n",
      "        Key  : Lower : Value : Upper : Fixed : Stale : Domain\n",
      "        None :     0 :  15.0 :  None : False : False : NonNegativeReals\n",
      "    ms : Size=1, Index=None\n",
      "        Key  : Lower : Value : Upper : Fixed : Stale : Domain\n",
      "        None :     0 : 200.0 :  None : False : False : NonNegativeReals\n",
      "\n",
      "1 Objective Declarations\n",
      "    obj : Size=1, Index=None, Active=True\n",
      "        Key  : Active : Sense    : Expression\n",
      "        None :   True : maximize : 0.1*(0.4*ms - 0.38*mHP - 0.35*mLP) + 20*mLP + 25*mHP\n",
      "\n",
      "4 Constraint Declarations\n",
      "    con1 : Size=1, Index=None, Active=True\n",
      "        Key  : Lower : Body : Upper : Active\n",
      "        None :  15.0 :  mLP :  +Inf :   True\n",
      "    con2 : Size=1, Index=None, Active=True\n",
      "        Key  : Lower : Body                         : Upper : Active\n",
      "        None :   0.0 : mHP + 1.3333333333333333*mLP :  +Inf :   True\n",
      "    con3 : Size=1, Index=None, Active=True\n",
      "        Key  : Lower : Body               : Upper : Active\n",
      "        None :  -Inf : mHP + mLP - 0.5*ms :   0.0 :   True\n",
      "    con4 : Size=1, Index=None, Active=True\n",
      "        Key  : Lower : Body : Upper : Active\n",
      "        None :  -Inf :   ms : 200.0 :   True\n",
      "\n",
      "8 Declarations: mLP mHP ms con1 con2 con3 con4 obj\n"
     ]
    }
   ],
   "source": [
    "\n",
    "model = pyo.ConcreteModel()\n",
    "model.mLP = pyo.Var(within=pyo.NonNegativeReals)\n",
    "model.mHP = pyo.Var(within=pyo.NonNegativeReals)\n",
    "model.ms = pyo.Var(within=pyo.NonNegativeReals)\n",
    "model.con1 = pyo.Constraint(expr = model.mLP >= 15)\n",
    "model.con2 = pyo.Constraint(expr = model.mHP + 4/3 * model.mLP >= 0)\n",
    "model.con3 = pyo.Constraint(expr = model.mHP + model.mLP - 0.5* model.ms <= 0)\n",
    "model.con4 = pyo.Constraint(expr = model.ms <= 200)\n",
    "\n",
    "model.obj = pyo.Objective(expr = 0.1*(0.4* model.ms - 0.38 * model.mHP - 0.35* model.mLP) + 20* model.mLP + 25* model.mHP, sense=pyo.maximize)\n",
    "status = pyo.SolverFactory('glpk').solve(model)\n",
    "pyo.assert_optimal_termination(status)\n",
    "model.pprint()"
   ]
  },
  {
   "cell_type": "markdown",
   "metadata": {},
   "source": [
    "\n",
    "**<u>CDU LP Optimization</u>** <br>\n",
    "Here’s a hypothetical example of a CDU unit using 2 Crude types each yielding a different amount of products: Gasoline, Kerosene, Fuel Oil, and Residual. For each crude, there’s a different raw materials and processing costs. However, due to differences in yield, each also will have a different income. The Objective here is to create a blend or process fractions of each to generate the maximum profit. For this example, the profit will be as follows: <br>\n",
    "Profit = Total Income – Total Raw Material Costs – Total Processing Costs <br>\n",
    "Total Income = total income for all products (product yield * Price for each product) <br>\n",
    "Total Raw material Costs = Total costs for both crudes (Amount of crude Processed*Feed Costs for each crude) <br>\n",
    "Total Processing Costs = Total processing costs for both crudes (Amount of crude Processed*Feed Costs for each crude) <br>\n",
    "\n",
    "**<u>Constraints</u>**\n",
    "1. Products shouldn’t be less than Zero and not higher than max. Production specified\n",
    "2. The sum of yields for all products should equal the feed rate for each crude\n",
    "\n",
    "**Link: [Original Code Link: Pyomo Examples](https://jckantor.github.io/CBE30338/06.99-Pyomo-Examples.html)**\n"
   ]
  },
  {
   "cell_type": "code",
   "execution_count": 4,
   "metadata": {},
   "outputs": [
    {
     "name": "stdout",
     "output_type": "stream",
     "text": [
      "\n",
      "           Price  Max Production\n",
      "Gasoline     72           24000\n",
      "Kerosene     48            2000\n",
      "Gas Oil      42            6000\n",
      "Fuel Oil     20          100000\n",
      "\n",
      "          Processing Cost  Feed Costs\n",
      "Crude 1              1.0          48\n",
      "Crude 2              2.0          30\n",
      "\n",
      "           Crude 1  Crude 2\n",
      "Gasoline     0.80     0.44\n",
      "Kerosene     0.05     0.10\n",
      "Gas Oil      0.10     0.36\n",
      "Fuel Oil     0.05     0.10\n"
     ]
    }
   ],
   "source": [
    "\n",
    "PRODUCTS = ['Gasoline', 'Kerosene', 'Gas Oil', 'Fuel Oil']\n",
    "FEEDS = ['Crude 1', 'Crude 2']\n",
    "\n",
    "products = pd.DataFrame(index=PRODUCTS)\n",
    "products['Price'] = [72, 48, 42, 20]\n",
    "products['Max Production'] = [24000, 2000, 6000, 100000]\n",
    "\n",
    "crudes = pd.DataFrame(index=FEEDS)\n",
    "crudes['Processing Cost'] = [1.00, 2.00]\n",
    "crudes['Feed Costs'] = [48, 30]\n",
    "\n",
    "yields = pd.DataFrame(index=PRODUCTS)\n",
    "yields['Crude 1'] = [0.80, 0.05, 0.10, 0.05]\n",
    "yields['Crude 2'] = [0.44, 0.10, 0.36, 0.10]\n",
    "\n",
    "print('\\n', products)\n",
    "print('\\n', crudes)\n",
    "print('\\n', yields)\n",
    "\n"
   ]
  },
  {
   "cell_type": "code",
   "execution_count": 5,
   "metadata": {},
   "outputs": [
    {
     "name": "stdout",
     "output_type": "stream",
     "text": [
      "2 Var Declarations\n",
      "    x : Size=2, Index={Crude 1, Crude 2}\n",
      "        Key     : Lower : Value            : Upper : Fixed : Stale : Domain\n",
      "        Crude 1 :     0 : 26206.8965517241 :  None : False : False : NonNegativeReals\n",
      "        Crude 2 :     0 : 6896.55172413793 :  None : False : False : NonNegativeReals\n",
      "    y : Size=4, Index={Gasoline, Kerosene, Gas Oil, Fuel Oil}\n",
      "        Key      : Lower : Value            : Upper : Fixed : Stale : Domain\n",
      "        Fuel Oil :     0 :           2000.0 :  None : False : False : NonNegativeReals\n",
      "         Gas Oil :     0 : 5103.44827586207 :  None : False : False : NonNegativeReals\n",
      "        Gasoline :     0 :          24000.0 :  None : False : False : NonNegativeReals\n",
      "        Kerosene :     0 :           2000.0 :  None : False : False : NonNegativeReals\n",
      "\n",
      "1 Objective Declarations\n",
      "    objective : Size=1, Index=None, Active=True\n",
      "        Key  : Active : Sense    : Expression\n",
      "        None :   True : maximize : 72*y[Gasoline] + 48*y[Kerosene] + 42*y[Gas Oil] + 20*y[Fuel Oil] - (48*x[Crude 1] + 30*x[Crude 2]) - (x[Crude 1] + 2.0*x[Crude 2])\n",
      "\n",
      "1 Constraint Declarations\n",
      "    constraints : Size=12, Index={1, 2, 3, 4, 5, 6, 7, 8, 9, 10, 11, 12}, Active=True\n",
      "        Key : Lower : Body                                             : Upper    : Active\n",
      "          1 :  -Inf :                                      y[Gasoline] :  24000.0 :   True\n",
      "          2 :   0.0 :                                      y[Gasoline] :     +Inf :   True\n",
      "          3 :  -Inf :                                      y[Kerosene] :   2000.0 :   True\n",
      "          4 :   0.0 :                                      y[Kerosene] :     +Inf :   True\n",
      "          5 :  -Inf :                                       y[Gas Oil] :   6000.0 :   True\n",
      "          6 :   0.0 :                                       y[Gas Oil] :     +Inf :   True\n",
      "          7 :  -Inf :                                      y[Fuel Oil] : 100000.0 :   True\n",
      "          8 :   0.0 :                                      y[Fuel Oil] :     +Inf :   True\n",
      "          9 :   0.0 : y[Gasoline] - (0.8*x[Crude 1] + 0.44*x[Crude 2]) :      0.0 :   True\n",
      "         10 :   0.0 : y[Kerosene] - (0.05*x[Crude 1] + 0.1*x[Crude 2]) :      0.0 :   True\n",
      "         11 :   0.0 :  y[Gas Oil] - (0.1*x[Crude 1] + 0.36*x[Crude 2]) :      0.0 :   True\n",
      "         12 :   0.0 : y[Fuel Oil] - (0.05*x[Crude 1] + 0.1*x[Crude 2]) :      0.0 :   True\n",
      "\n",
      "4 Declarations: x y objective constraints\n"
     ]
    }
   ],
   "source": [
    "\n",
    "\n",
    "# model formulation\n",
    "model = pyo.ConcreteModel()\n",
    "\n",
    "# variables\n",
    "model.x = pyo.Var(FEEDS,    domain=pyo.NonNegativeReals)\n",
    "model.y = pyo.Var(PRODUCTS, domain=pyo.NonNegativeReals)\n",
    "# objective\n",
    "income = sum(products.loc[p, 'Price'] * model.y[p] for p in PRODUCTS)\n",
    "raw_materials_cost = sum(crudes.loc[f,'Feed Costs'] * model.x[f] for f in FEEDS)\n",
    "\n",
    "\n",
    "\n",
    "processing_cost = sum(crudes['Processing Cost'][f] * model.x[f] for f in FEEDS)\n",
    "\n",
    "profit = income - raw_materials_cost - processing_cost\n",
    "model.objective = pyo.Objective(expr = profit, sense=pyo.maximize)\n",
    "\n",
    "# constraints\n",
    "model.constraints = pyo.ConstraintList()\n",
    "for p in PRODUCTS:\n",
    "    model.constraints.add( model.y[p] <= products['Max Production'][p])\n",
    "    model.constraints.add(0 <= model.y[p])\n",
    "for p in PRODUCTS:\n",
    "    model.constraints.add(model.y[p] == sum(model.x[f] * yields.loc[p,f] for f in FEEDS))\n",
    "\n",
    "solver = pyo.SolverFactory('glpk')\n",
    "solver.solve(model)\n",
    "model.pprint()\n",
    "\n"
   ]
  },
  {
   "cell_type": "code",
   "execution_count": 6,
   "metadata": {},
   "outputs": [
    {
     "data": {
      "text/plain": [
       "(573517.241379312, 2078344.8275862068, 1464827.5862068948, 39999.99999999996)"
      ]
     },
     "execution_count": 6,
     "metadata": {},
     "output_type": "execute_result"
    }
   ],
   "source": [
    "profit(),income(),raw_materials_cost(),processing_cost()\n",
    "\n"
   ]
  },
  {
   "cell_type": "markdown",
   "metadata": {},
   "source": [
    "**Another Interesting Example of LP for Refinery operations**\n",
    "\n",
    "**Eng. Emad El Gebesy: [Power of ML: Linear Programming for Refinery using Python-GEKKO](https://medium.com/@emad.elgebesy/power-of-ml-linear-programming-for-refinery-using-python-gekko-815d84bae1d5)** <br>"
   ]
  },
  {
   "cell_type": "markdown",
   "metadata": {},
   "source": [
    "**<u>NLP problem</u>**\n",
    "\n",
    "**Example 3.8 in Book Practical Chemical Process Optimization P. 141: Optimal Design of a Liquid Pumping\n",
    "System** <br>\n",
    "<a href=\"https://ibb.co/XY7phWt\"><img src=\"https://i.ibb.co/CPbvkwQ/pumping-system.png\" alt=\"pumping-system\" border=\"0\"></a> <br>\n",
    "The basic elements of a liquid transfer system Liquid with density ρ=1000 kg/m3 and viscosity μ=0.001 kg/(ms) is to be pumped between two storage tanks that are located L=100 m apart,with flowrate Q=100 m3/h.The unit will operate for t<sub>y</sub>=8322h/y,and the cost of electricity is c<sub>el</sub>= 0.1 $/kWh.As mooth pipe is to be used with diameter between 0.03 and 0.30 m with an installed cost that depends on the diameter of the pipe used:\n",
    "\n",
    "C<sub>pipe</sub>\\[\\$\\] = 1500 d<sup>1.5</sup>L where L & D are in m\n",
    "\n",
    "The equipment cost involves also the cost of the pump which is given by:\n",
    "\n",
    "C<sub>pump</sub>\\[\\$\\] = 750W<sup>0.3</sup> where w in kW\n",
    "\n",
    "W is the electrical power needed to drive the pump (kW). To calculate\n",
    "the electrical power, take into consideration the frictional losses\n",
    "through the straight pipe:\n",
    "\n",
    "∆P = f(L/d).0.5\\*ρ\\*u<sup>2</sup> where ∆P in Pa\n",
    "\n",
    "Where u is the velocity of the liquid in the pipe and f is the moody\n",
    "friction factor calculated for smooth pipe as a function of the Reynolds\n",
    "number by the equation (Re \\> 5000)\n",
    "\n",
    "f = 0.316/Re<sup>0.25</sup>, Re = udρ/μ\n",
    "\n",
    "finally if the pressure drop is known, the power to drive a pump with\n",
    "efficiency ƞ<sub>e</sub> is given by:\n",
    "\n",
    "w = Q\\*∆P/ ƞ<sub>e</sub>\n",
    "\n",
    "the aim is to select a pipe diameter so as to minimize the following\n",
    "approximation total annual cost (TAC) of the piping system:\n",
    "\n",
    "TAC = 1/3 \\* (C<sub>pipe</sub>\\[\\$\\]+C<sub>pump</sub>\\[\\$\\]) +\n",
    "wt<sub>y</sub>C<sub>el</sub> \\[Objective function is to minimize this\n",
    "equation)\n",
    "\n",
    "Constraints\n",
    "\n",
    "Diameter constraint: 0.03 ≤ d ≤ 0.3\n",
    "\n",
    "Velocity constraint : 0 ≤ u\n",
    "\n",
    "Reynolds Constraint: 5000 ≤ Re\n",
    "\n",
    "Friction Factor constraint: 10<sup>-6</sup> ≤ f ≤ 0.1\n",
    "\n",
    "dP constraint: 0 ≤ ∆P\n",
    "\n",
    "Power constraint: 0 ≤ w"
   ]
  },
  {
   "cell_type": "code",
   "execution_count": 7,
   "metadata": {},
   "outputs": [
    {
     "name": "stdout",
     "output_type": "stream",
     "text": [
      "Optimimum diameter is 0.13 m or 5.12 inches\n",
      "Total annual cost is 3251.70 $/y\n",
      "Cost of piping is 7039.91 $/y\n",
      "Cost of the pump is 703.00 $/y\n",
      "Cost of Power is 670.73 $/y\n"
     ]
    },
    {
     "name": "stderr",
     "output_type": "stream",
     "text": [
      "c:\\Users\\ahmed\\Anaconda3\\lib\\site-packages\\scipy\\optimize\\_optimize.py:353: RuntimeWarning: Values in x were outside bounds during a minimize step, clipping to bounds\n",
      "  warnings.warn(\"Values in x were outside bounds during a \"\n"
     ]
    }
   ],
   "source": [
    "\n",
    "\n",
    "def velocity(d,Q):\n",
    "    u = 4*Q/(np.pi*(d**2))\n",
    "    return u\n",
    "def Reynolds_number(d,Q,rho,mu):\n",
    "    u = velocity(d,Q)\n",
    "    Re = u*d*rho/mu\n",
    "    return Re\n",
    "def friction_factor(d,Q,rho,mu):\n",
    "    u = velocity(d,Q)\n",
    "    Re = Reynolds_number(d,Q,rho,mu)\n",
    "    f = 0.316/(Re**0.25)\n",
    "    return f \n",
    "def power_function(d,L,Q,rho,mu,eta_e):\n",
    "    u = velocity(d,Q)\n",
    "    f = friction_factor(d,Q,rho,mu)\n",
    "    dP = f * (L/d) *0.5*rho*(u**2)\n",
    "    w = Q*dP/eta_e\n",
    "    return w/1000\n",
    "def TAC_function_scipy(vars,L,Q,rho,mu,eta_e, ty,c_el, return_output = False):\n",
    "    d = float(vars)\n",
    "    w = power_function(d,L,Q,rho,mu,eta_e)\n",
    "    C_pipe = 1500*(d**1.5)*L\n",
    "    C_pump = 750*(w**0.3)\n",
    "    TAC = (1/3)*( C_pipe+ C_pump)+w*ty*c_el\n",
    "\n",
    "    if return_output == False:\n",
    "        return TAC\n",
    "    else:\n",
    "        return d,w,C_pipe,C_pump,TAC\n",
    "\n",
    "\n",
    "\n",
    "\n",
    "def Reynolds_constraint(x,Q,rho,mu):\n",
    "    Re = Reynolds_number(x[0],Q,rho,mu)\n",
    "    return Re -5000\n",
    "\n",
    "def friction_constraint(x,Q,rho,mu,lower=True):\n",
    "    Re = Reynolds_number(x[0],Q,rho,mu)\n",
    "    f = 0.316/(Re**0.25)\n",
    "    if lower == True:\n",
    "        return 0.1 - f\n",
    "    else :\n",
    "        return f - 1E-06\n",
    "\n",
    "L = 100 # length of pipe in m \n",
    "Q = 100/3600 # volumetric flowrate in m3/s\n",
    "rho = 1000 # density in kg/m3\n",
    "mu = 0.001 # viscosity in kg/m.s\n",
    "eta_e = 0.8 # pump efficiency fractional\n",
    "ty = 8322 # Operating hours per year\n",
    "c_el = 0.1 # electricity cost in $/kWh\n",
    "\n",
    "\n",
    "cons1 = {'type':'ineq','fun': Reynolds_constraint,'args': (Q,rho,mu)}\n",
    "cons2 = {'type':'ineq','fun': friction_constraint,'args': (Q,rho,mu,True)}\n",
    "cons3 = {'type':'ineq','fun': friction_constraint,'args': (Q,rho,mu,False)}\n",
    "cons = [cons1,cons2,cons3]\n",
    "bounds = [(0.03,0.3)]\n",
    "initial_guess = [1.5]\n",
    "\n",
    "result = minimize(TAC_function_scipy, args = (L,Q,rho,mu,eta_e, ty,c_el), x0=initial_guess, bounds = bounds, method='SLSQP', tol=0.0001, constraints =cons)\n",
    "d,w,C_pipe,C_pump,TAC = TAC_function_scipy(result.x ,L,Q,rho,mu,eta_e, ty,c_el, return_output = True)\n",
    "\n",
    "print('Optimimum diameter is {:0.2f} m or {:0.2f} inches'.format(d,d*39.37))\n",
    "print('Total annual cost is {:0.2f} $/y'.format(TAC))\n",
    "print('Cost of piping is {:0.2f} $/y'.format(C_pipe))\n",
    "print('Cost of the pump is {:0.2f} $/y'.format(C_pump))\n",
    "print('Cost of Power is {:0.2f} $/y'.format(w*ty*c_el))\n"
   ]
  },
  {
   "cell_type": "code",
   "execution_count": 8,
   "metadata": {},
   "outputs": [
    {
     "name": "stdout",
     "output_type": "stream",
     "text": [
      "1 Var Declarations\n",
      "    x : Size=1, Index=None\n",
      "        Key  : Lower : Value              : Upper : Fixed : Stale : Domain\n",
      "        None :  0.03 : 0.1301116337567123 :   0.3 : False : False :  Reals\n",
      "\n",
      "1 Objective Declarations\n",
      "    obj : Size=1, Index=None, Active=True\n",
      "        Key  : Active : Sense    : Expression\n",
      "        None :   True : minimize : 0.3333333333333333*(1500*x**1.5*100 + 750*(0.027777777777777776*(0.316/(0.1111111111111111/(3.141592653589793*x**2)*x*1000/0.001)**0.25*(100/x)*0.5*1000*(0.1111111111111111/(3.141592653589793*x**2))**2)/0.8/1000)**0.3) + 0.027777777777777776*(0.316/(0.1111111111111111/(3.141592653589793*x**2)*x*1000/0.001)**0.25*(100/x)*0.5*1000*(0.1111111111111111/(3.141592653589793*x**2))**2)/0.8/1000*8322*0.1\n",
      "\n",
      "3 Constraint Declarations\n",
      "    c1 : Size=1, Index=None, Active=True\n",
      "        Key  : Lower  : Body                                                     : Upper : Active\n",
      "        None : 5000.0 : 0.1111111111111111/(3.141592653589793*x**2)*x*1000/0.001 :  +Inf :   True\n",
      "    c2 : Size=1, Index=None, Active=True\n",
      "        Key  : Lower : Body                                                                   : Upper : Active\n",
      "        None : 1e-06 : 0.316/(0.1111111111111111/(3.141592653589793*x**2)*x*1000/0.001)**0.25 :  +Inf :   True\n",
      "    c3 : Size=1, Index=None, Active=True\n",
      "        Key  : Lower : Body                                                                   : Upper : Active\n",
      "        None :  -Inf : 0.316/(0.1111111111111111/(3.141592653589793*x**2)*x*1000/0.001)**0.25 :   0.1 :   True\n",
      "\n",
      "5 Declarations: x c1 c2 c3 obj\n",
      "Optimimum diameter is 0.13 m or 5.12 inches\n",
      "Total annual cost is 3251.70 $/y\n",
      "Cost of piping is 7039.88 $/y\n",
      "Cost of the pump is 703.01 $/y\n",
      "Cost of Power is 670.74 $/y\n"
     ]
    }
   ],
   "source": [
    "\n",
    "def TAC_function(model,L,Q,rho,mu,eta_e, ty,c_el, return_output = False):\n",
    "    if return_output == False :\n",
    "        d = model.x\n",
    "    else: d = model\n",
    "    w = power_function(d,L,Q,rho,mu,eta_e)\n",
    "    C_pipe = 1500*(d**1.5)*L\n",
    "    C_pump = 750*(w**0.3)\n",
    "    TAC = (1/3)*( C_pipe+ C_pump)+w*ty*c_el\n",
    "\n",
    "    if return_output == False:\n",
    "        return TAC\n",
    "    else:\n",
    "        return d,w,C_pipe,C_pump,TAC\n",
    "\n",
    "\n",
    "model = pyo.ConcreteModel()\n",
    "model.x = pyo.Var(initialize = 1.5)\n",
    "\n",
    "# Setting Constraints\n",
    "model.c1 = pyo.Constraint(expr = Reynolds_number(model.x,Q,rho,mu) >= 5000)\n",
    "model.c2 = pyo.Constraint(expr = friction_factor( model.x,Q,rho,mu)>= 1E-6)\n",
    "model.c3 = pyo.Constraint(expr = friction_factor(model.x,Q,rho,mu) <= 0.1)\n",
    "# Setting Boundaries\n",
    "model.x.setlb(0.03)\n",
    "model.x.setub(0.3)\n",
    "\n",
    "model.obj = pyo.Objective(rule = lambda model: TAC_function(model,L,Q,rho,mu,eta_e, ty,c_el, False), sense=pyo.minimize)\n",
    "\n",
    "status = pyo.SolverFactory('ipopt').solve(model)\n",
    "pyo.assert_optimal_termination(status)\n",
    "model.pprint()\n",
    "d,w,C_pipe,C_pump,TAC = TAC_function(model.x.value,L,Q,rho,mu,eta_e, ty,c_el, True)\n",
    "print('Optimimum diameter is {:0.2f} m or {:0.2f} inches'.format(d,d*39.37))\n",
    "print('Total annual cost is {:0.2f} $/y'.format(TAC))\n",
    "print('Cost of piping is {:0.2f} $/y'.format(C_pipe))\n",
    "print('Cost of the pump is {:0.2f} $/y'.format(C_pump))\n",
    "print('Cost of Power is {:0.2f} $/y'.format(w*ty*c_el))"
   ]
  },
  {
   "cell_type": "code",
   "execution_count": 10,
   "metadata": {},
   "outputs": [
    {
     "data": {
      "text/plain": [
       "Text(0, 0.5, 'Cost in $')"
      ]
     },
     "execution_count": 10,
     "metadata": {},
     "output_type": "execute_result"
    },
    {
     "data": {
      "image/png": "[encoded data removed]",
      "text/plain": [
       "<Figure size 640x480 with 1 Axes>"
      ]
     },
     "metadata": {},
     "output_type": "display_data"
    }
   ],
   "source": [
    "TAC_list = [TAC_function_scipy(i,L,Q,rho,mu,eta_e, ty,c_el, return_output = False) for i in np.linspace(0.05,1)]\n",
    "import matplotlib.pyplot as plt\n",
    "plt.plot(np.linspace(0.05,1),TAC_list)\n",
    "plt.xlabel('Diameter in m')\n",
    "plt.ylabel('Cost in $')"
   ]
  }
 ],
 "metadata": {
  "kernelspec": {
   "display_name": "base",
   "language": "python",
   "name": "python3"
  },
  "language_info": {
   "codemirror_mode": {
    "name": "ipython",
    "version": 3
   },
   "file_extension": ".py",
   "mimetype": "text/x-python",
   "name": "python",
   "nbconvert_exporter": "python",
   "pygments_lexer": "ipython3",
   "version": "3.8.16"
  }
 },
 "nbformat": 4,
 "nbformat_minor": 2
}
