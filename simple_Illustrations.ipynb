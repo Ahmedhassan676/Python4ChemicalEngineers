{
 "cells": [
  {
   "cell_type": "code",
   "execution_count": 2,
   "metadata": {},
   "outputs": [],
   "source": [
    "import fluids\n",
    "import thermo\n",
    "import pandas as pd\n",
    "import numpy as np \n",
    "import ht"
   ]
  },
  {
   "cell_type": "markdown",
   "metadata": {},
   "source": [
    "**<u>Compressor Sizing</u>** <br>\n",
    "For this example, we’ll perform the compressor calculations on the\n",
    "following fluid:\n",
    "\n",
    "Methane 0.5\n",
    "Ethane 0.25\n",
    "Propane 0.125\n",
    "i-Butane 6.25e-002\n",
    "n-Butane 6.25e-002\n",
    "\n",
    "Note: Above Values are Mole fractions <br>\n",
    "T inlet = 25 <sup>o</sup>C\n",
    "\n",
    "P inlet = 200 kPa\n",
    "\n",
    "Mass flow = 40,000 kg/hr\n",
    "\n",
    "**Isentropic work Calculations**\n",
    "\n",
    "$$W\\  = \\ \\frac{k}{k - 1}ZRT_{1}\\left\\lbrack \\left( \\frac{P_{2}}{P_{1}} \\right)^{(k - 1)/k} - 1 \\right\\rbrack/\\eta_{isentropic}$$\n",
    "\n",
    "**Isentropic Temperature rise**\n",
    "\n",
    "$$\\mathbf{T}_{\\mathbf{2}}\\mathbf{=}\\mathbf{T}_{\\mathbf{1}}\\mathbf{+}\\frac{\\mathbf{\\mathrm{\\Delta}}\\mathbf{T}_{\\mathbf{s}}}{\\eta_{isentropic}}\\mathbf{=}\\mathbf{T}_{\\mathbf{1}}\\mathbf{+}\\frac{\\mathbf{T}_{\\mathbf{1}}}{\\eta_{isentropic}}\\mathbf{\\lbrack}\\left( \\frac{P_{2}}{P_{1}} \\right)^{(k - 1)/k} - 1\\mathbf{\\rbrack}$$\n",
    "\n",
    "For ideal Case\n",
    "\n",
    "$$\\frac{\\mathbf{T}_{\\mathbf{2}}}{\\mathbf{T}_{\\mathbf{1}}}\\  = \\left( \\frac{P_{2}}{P_{1}} \\right)^{(k - 1)/k}\\ $$\n",
    "\n",
    "Where $\\eta_{isentropic}$ = 1 and T<sub>2</sub> = T<sub>adiabatic</sub> \n",
    "\n",
    "**Relationship between polytropic and isentropic efficiency**\n",
    "\n",
    "$$\\eta_{isentropic} = \\frac{\\left( \\frac{P_{2}}{P_{1}} \\right)^{(k - 1)\\text{/}k} - 1}{\\left( \\frac{P_{2}}{P_{1}} \\right)^{(k - 1)\\text{/}k*\\eta_{polytropic}} - 1}$$\n",
    "\n",
    "$$\\eta_{polytropic} = \\frac{(k - 1)*\\ln\\left( \\frac{P_{2}}{P_{1}} \\right)}{k*\\ln{(\\frac{1}{\\eta_{isentropic}}(\\eta_{isentropic} + \\left( \\frac{P_{2}}{P_{1}} \\right)^{(k - 1)\\text{/}k} - 1)}}$$\n",
    "\n",
    "**Polytropic Exponent and Polytropic Efficiency**\n",
    "\n",
    "$$\\mathbf{n\\  = \\ }\\frac{\\mathbf{k*}\\eta_{polytropic}}{\\mathbf{1 - k*(1 -}\\eta_{polytropic})}$$\n",
    "\n",
    "$$\\eta_{polytropic}\\  = \\ \\frac{n*(k - 1)}{k*(n - 1)}$$\n",
    "\n",
    "**Units** <br>\n",
    "Temperatures in Kelvin, Pressures in kPa, work in j/mol\n",
    "\n",
    "**Link: [More on Compressor Calculations and developped webapp](https://www.linkedin.com/posts/ahmed-hassan-aprco_tool-documentation-activity-7039387620459655168-m1-8/?utm_source=share&utm_medium=member_desktop)**"
   ]
  },
  {
   "cell_type": "code",
   "execution_count": 3,
   "metadata": {},
   "outputs": [
    {
     "name": "stdout",
     "output_type": "stream",
     "text": [
      "Calculated Consumed Power is 1860.63\n",
      "Calculated Isentropic Efficiency is 80.00\n",
      "Calculated P2 is 800000.00\n",
      "Calculated P1 is 200000.00\n",
      "Calculated T2 is 105.10\n",
      "Calculated Adiabatic T2 is 89.08\n",
      "Calculated Polytropic Efficiency is 81.81\n",
      "Calculated Polytropic exponent is 1.21\n"
     ]
    }
   ],
   "source": [
    "m_wt = 28.32\n",
    "mass_flow = 40000 # kg/hr\n",
    "mole_flow = mass_flow/m_wt \n",
    "T1 = 25+273.15\n",
    "P1 = 200E3 #kPa\n",
    "P2 = 800E3 #kPa\n",
    "k = 1.16337674864382 # Isentropic exponent\n",
    "power_consumed = fluids.isentropic_work_compression(P1=P1, P2=P2, T1=T1, k=k, eta=0.8) *2.77777778E-7*mole_flow*1000 # Convert j/mol to Kw/mol * mole flow kmol*1000\n",
    "power_consumed_jPerMol = power_consumed/ (2.77777778E-7*mole_flow*1000)\n",
    "efficiency = fluids.isentropic_work_compression(T1=T1, P1=P1, P2=P2, k=k, W=power_consumed_jPerMol) # Calculate efficiency\n",
    "P2 = fluids.isentropic_work_compression(T1=T1, P1=P1, k=k, W=power_consumed_jPerMol, eta=0.8) # Calculate P2\n",
    "P1 = fluids.isentropic_work_compression(T1=T1, P2=P2, k=k, W=power_consumed_jPerMol, eta=0.8) # Calculate P1\n",
    "T2 = fluids.isentropic_T_rise_compression(T1=T1, P1=P1, P2=P2, k=k, eta=0.8) - 273.15 \n",
    "T2_adiabatic = fluids.isentropic_T_rise_compression(T1=T1, P1=P1, P2=P2, k=k, eta=1) - 273.15\n",
    "eta_p = fluids.isentropic_efficiency(P1=P1, P2=P2, k=k, eta_s=0.8) # with eta_s specified, returns polytropic efficiency\n",
    "\n",
    "n = fluids.polytropic_exponent(k=k, eta_p=eta_p)\n",
    "\n",
    "print('Calculated Consumed Power is {:.2f}'.format(power_consumed))\n",
    "print('Calculated Isentropic Efficiency is {:.2f}'.format(efficiency*100))\n",
    "print('Calculated P2 is {:.2f}'.format(P2))\n",
    "print('Calculated P1 is {:.2f}'.format(P1))\n",
    "print('Calculated T2 is {:.2f}'.format(T2))\n",
    "print('Calculated Adiabatic T2 is {:.2f}'.format(T2_adiabatic))\n",
    "print('Calculated Polytropic Efficiency is {:.2f}'.format(eta_p*100))\n",
    "print('Calculated Polytropic exponent is {:.2f}'.format(n))"
   ]
  },
  {
   "cell_type": "markdown",
   "metadata": {},
   "source": [
    "**Connecting to HYSYS to compare results**\n",
    "\n",
    "Code for connecting to hysys is a code snippet from Edgar Ivan's Code\n",
    " \n",
    "\n",
    "**Check it out Is pretty awesome!: [Aspen_HYSYS_Python-Github](https://github.com/edgarsmdn/Aspen_HYSYS_Python/tree/main)** <br>\n",
    "**Youtube Video: [ Connecting #aspenhysys with #python | Aspen HYSYS | Python | Connectivity ](https://www.youtube.com/watch?v=aXujkOoNrSg&ab_channel=QaziNasir)**"
   ]
  },
  {
   "cell_type": "code",
   "execution_count": 4,
   "metadata": {},
   "outputs": [
    {
     "name": "stdout",
     "output_type": "stream",
     "text": [
      " \n",
      "Connecting to the Aspen HYSYS.... Please wait \n",
      " \n",
      "Aspen HYSYS file name:       water&gas.hsc\n",
      "Calculated Consumed Power is 1840.47\n",
      "Input Isentropic Efficiency is 80.00\n",
      "Input P2 is 800.00\n",
      "Input P1 is 25.00\n",
      "Calculated T2 is 109.77\n",
      "Calculated Polytropic Efficiency is 81.83\n",
      "Calculated Polytropic exponent is 1.21\n",
      "Calculated Isentropic exponent is 1.16\n"
     ]
    }
   ],
   "source": [
    "import os                          # Import operating system interface\n",
    "import win32com.client as win32  # Import COM\n",
    " \n",
    "def retrieve_equipment_spreadsheet(File_name,Spreadsheet_name,Unit_name):\n",
    "    hyFilePath = os.path.abspath(File_name)\n",
    "        \n",
    "    # 2.0 Initialize  Aspen HYSYS application\n",
    "    print(' ')\n",
    "    print('Connecting to the Aspen HYSYS.... Please wait ')\n",
    "    # This gets the registered name of Aspen HYSYS\n",
    "    HyApp = win32.Dispatch('HYSYS.Application')\n",
    "\n",
    "    # 3.0 Open Aspen HYSYS file\n",
    "\n",
    "    HyCase = HyApp.SimulationCases.Open(hyFilePath)\n",
    "\n",
    "\n",
    "    # else:\n",
    "    # raise Exception('Argument for input variable \"active\" is not valid')\n",
    "        \n",
    "    # 4.0 Aspen HYSYS Environment Visible\n",
    "    HyCase.Visible = 1\n",
    "\n",
    "    # 5.0 Aspen HYSYS File Name\n",
    "    HySysFile = HyCase.Title.Value\n",
    "    print(' ')\n",
    "    print('Aspen HYSYS file name:      ', HySysFile)\n",
    "\n",
    "        \n",
    "    # 7.0  Spreadsheets\n",
    "    ss_dict = {}\n",
    "    # for ss in Spreadsheets:\n",
    "    spsh = HyCase.Flowsheet.Operations.Item(Spreadsheet_name)\n",
    "    ss_dict[Spreadsheet_name] = spsh\n",
    "\n",
    "\n",
    "    # 10.0 Unit operations\n",
    "    uo_dict = {}\n",
    "    # for uo in Units:\n",
    "    unop = HyCase.Flowsheet.Operations.Item(Unit_name)\n",
    "    uo_dict[Unit_name] = unop\n",
    "\n",
    "    # 11.0 Collect everything into a class\n",
    "    class Hysys:\n",
    "        pass\n",
    "    Hysys.SS                = ss_dict\n",
    "    Hysys.UO                = uo_dict\n",
    "    return Hysys.SS[Spreadsheet_name]\n",
    "File_name         = 'water&gas.hsc'\n",
    "Spreadsheet_name = 'CompressorSS'\n",
    "Unit        = 'K-100'\n",
    "spread_sheet = retrieve_equipment_spreadsheet(File_name,Spreadsheet_name,Unit)\n",
    "\n",
    "print('Calculated Consumed Power is {:.2f}'.format(spread_sheet.Cell(1,4).CellValue))\n",
    "print('Input Isentropic Efficiency is {:.2f}'.format(spread_sheet.Cell(1,0).CellValue))\n",
    "print('Input P2 is {:.2f}'.format(spread_sheet.Cell(1,7).CellValue))\n",
    "print('Input P1 is {:.2f}'.format(spread_sheet.Cell(1,6).CellValue))\n",
    "print('Calculated T2 is {:.2f}'.format(spread_sheet.Cell(1,8).CellValue))\n",
    "print('Calculated Polytropic Efficiency is {:.2f}'.format(spread_sheet.Cell(1,2).CellValue))\n",
    "print('Calculated Polytropic exponent is {:.2f}'.format(spread_sheet.Cell(1,3).CellValue))\n",
    "print('Calculated Isentropic exponent is {:.2f}'.format(spread_sheet.Cell(1,1).CellValue))"
   ]
  },
  {
   "cell_type": "markdown",
   "metadata": {},
   "source": [
    "**<u>Pump Sizing</u>**\n",
    "\n",
    "**Fluids Docs for Pumps Calculations Link :**\n",
    "\n",
    "$$Head = \\ \\frac{\\mathrm{\\Delta}P}{\\rho.g}$$\n",
    "\n",
    "$$P_{hydraulic\\ power} = \\frac{\\rho.H.Q}{367000}$$\n",
    "\n",
    "$$P_{Consumed\\ power} = \\frac{P_{hydraulic\\ power}}{ƞ_{pump}}$$\n",
    "\n",
    "$$ƞ_{pump}(Estimation) = \\  - 0.316 + 0.24015*\\ln(Q/3600) - 0.01199*\\ln\\left( ({Q/3600)}^{2} \\right)$$\n",
    "\n",
    "$$Pump\\ Specific\\ Speed\\ (SS) = \\ \\frac{n\\sqrt{Q/3600}}{H^{0.75}}$$\n",
    "\n",
    "$$Pump\\ Suction\\ Specific\\ Speed\\ (SSS) = \\ \\frac{n\\sqrt{Q/3600}}{{NPSHr}^{0.75}}$$\n",
    "\n",
    "Units:\n",
    "\n",
    "Q in m<sup>3</sup>/hr\n",
    "\n",
    "H in m\n",
    "\n",
    "ρ in kg/m<sup>3</sup>\n",
    "\n",
    "P in kPa\n",
    "\n",
    "Power in kW\n",
    "\n",
    "n: pump speed in rpm\n",
    "\n",
    "**Link: [More on Pumps' and Pumping Systems' Calculations and developped webapp](https://www.linkedin.com/posts/ahmed-hassan-aprco_pump-hydraulic-system-analysis-and-specs-activity-7137573783984386049-g1Xb/?utm_source=share&utm_medium=member_desktop)**"
   ]
  },
  {
   "cell_type": "code",
   "execution_count": 5,
   "metadata": {},
   "outputs": [
    {
     "name": "stdout",
     "output_type": "stream",
     "text": [
      "Calculated delta P 680.00 kPa \n",
      "Calculated Head 69.56 m\n",
      "Estimated Efficiency is 65.03 % \n",
      "Calculated Hyraulic Power 11.34 kW \n",
      "Calculated Total Power 17.43 kW\n",
      "Estimated Motor Size is 22.37 kW\n",
      "Estimated full load motor efficiency 88.74 % \n"
     ]
    }
   ],
   "source": [
    "P_suction = 120E3  #kPa\n",
    "P_discharge = 800E3 #kPa\n",
    "Q = 60 #m3/hr \n",
    "Density =996.89 # kg/m3\n",
    "# Viscosity = 0.890438973953439 #cP\n",
    "dP = P_discharge - P_suction \n",
    "head = fluids.head_from_P(dP, Density)\n",
    "estimated_efficiency = fluids.pump.Corripio_pump_efficiency(Q/3600)\n",
    "Hydraulic_power = Q*head*Density/367000\n",
    "Consumed_Power = Hydraulic_power/estimated_efficiency\n",
    "power_margin = 1.15\n",
    "Motor_Size = fluids.pump.motor_round_size(Consumed_Power*power_margin*1000)/1000\n",
    "estimated_fullload_efficiency = fluids.pump.Corripio_motor_efficiency(Motor_Size*1000)\n",
    "\n",
    "print('Calculated delta P {:.2f} kPa \\nCalculated Head {:.2f} m'.format(dP/1000,head))\n",
    "print('Estimated Efficiency is {:.2f} % \\nCalculated Hyraulic Power {:.2f} kW \\nCalculated Total Power {:.2f} kW'.format(estimated_efficiency*100,Hydraulic_power,Consumed_Power))\n",
    "print('Estimated Motor Size is {:.2f} kW'.format(Motor_Size))\n",
    "print('Estimated full load motor efficiency {:.2f} % '.format(estimated_fullload_efficiency*100))"
   ]
  },
  {
   "cell_type": "code",
   "execution_count": 6,
   "metadata": {},
   "outputs": [
    {
     "name": "stdout",
     "output_type": "stream",
     "text": [
      "Calculated Pump Specific Speed is 19.30 rpm*m^0.75/s^0.5\n",
      "Calculated Pump Suction Specific Speed is 164.32 rpm*m^0.75/s^0.5\n"
     ]
    }
   ],
   "source": [
    "estimated_SS = fluids.pump.specific_speed(Q/3600, head, n=3600)\n",
    "NPSHr = 4.0 # Net Positive Suction Head Required\n",
    "estimated_SSS = fluids.pump.specific_speed(Q/3600, NPSHr, n=3600) # n = rpm\n",
    "print('Calculated Pump Specific Speed is {:.2f} rpm*m^0.75/s^0.5'.format(estimated_SS))\n",
    "print('Calculated Pump Suction Specific Speed is {:.2f} rpm*m^0.75/s^0.5'.format(estimated_SSS))"
   ]
  },
  {
   "cell_type": "code",
   "execution_count": 7,
   "metadata": {},
   "outputs": [
    {
     "data": {
      "text/plain": [
       "0.77"
      ]
     },
     "execution_count": 7,
     "metadata": {},
     "output_type": "execute_result"
    }
   ],
   "source": [
    "Power = 35 / 1000 # Power, [W]\n",
    "fluids.pump.CSA_motor_efficiency(Power, closed=True, poles=2, high_efficiency=True)"
   ]
  },
  {
   "cell_type": "markdown",
   "metadata": {},
   "source": [
    "**Control Valve Sizing**\n",
    "1. **Liquids** <br>\n",
    "\n",
    "**<u>Incompressible fluids</u>**\n",
    "\n",
    "**<u>Turbulent flow</u>**\n",
    "\n",
    "**<u>Non-choked flow (without fittings)</u> (ΔP \\<\n",
    "F<sub>L</sub><sup>2</sup>(P<sub>1</sub>-F<sub>F</sub>P<sub>v</sub>) )**\n",
    "\n",
    "$$Cv\\  = \\ \\frac{\\mathbf{Q}}{\\mathbf{N}_{\\mathbf{1}}}\\sqrt{\\frac{\\frac{\\mathbf{\\rho}_{\\mathbf{1}}}{\\mathbf{\\rho}_{\\mathbf{o}}}}{\\mathbf{\\mathrm{\\Delta}P}}}$$\n",
    "\n",
    "**<u>Non-choked flow (with fittings)</u> (ΔP \\<\n",
    "(F<sub>LP</sub>/F<sub>p</sub>)\n",
    "<sup>2</sup>(P<sub>1</sub>-F<sub>F</sub>P<sub>v</sub>) )**\n",
    "\n",
    "$$Cv\\  = \\ \\frac{\\mathbf{Q}}{\\mathbf{N}_{\\mathbf{1}}\\mathbf{F}_{\\mathbf{P}}}\\sqrt{\\frac{\\frac{\\mathbf{\\rho}_{\\mathbf{1}}}{\\mathbf{\\rho}_{\\mathbf{o}}}}{\\mathbf{\\mathrm{\\Delta}P}}}$$\n",
    "\n",
    "**<u>Choked flow (without fittings)</u> (ΔP \\>\n",
    "F<sub>L</sub><sup>2</sup>(P<sub>1</sub>-F<sub>F</sub>P<sub>v</sub>) )**\n",
    "\n",
    "$$Cv\\  = \\ \\frac{\\mathbf{Q}}{\\mathbf{N}_{\\mathbf{1}}\\mathbf{F}_{\\mathbf{L}}}\\sqrt{\\frac{\\frac{\\mathbf{\\rho}_{\\mathbf{1}}}{\\mathbf{\\rho}_{\\mathbf{o}}}}{\\mathbf{P}_{\\mathbf{1}}\\mathbf{-}\\mathbf{F}_{\\mathbf{F}}\\mathbf{P}_{\\mathbf{v}}}}$$\n",
    "\n",
    "**<u>Choked flow (with fittings)</u> (ΔP \\>\n",
    "(F<sub>LP</sub>/F<sub>p</sub>)\n",
    "<sup>2</sup>(P<sub>1</sub>-F<sub>F</sub>P<sub>v</sub>) )**\n",
    "\n",
    "$$Cv\\  = \\ \\frac{\\mathbf{Q}}{\\mathbf{N}_{\\mathbf{1}}\\mathbf{F}_{\\mathbf{LP}}}\\sqrt{\\frac{\\frac{\\mathbf{\\rho}_{\\mathbf{1}}}{\\mathbf{\\rho}_{\\mathbf{o}}}}{\\mathbf{P}_{\\mathbf{1}}\\mathbf{-}\\mathbf{F}_{\\mathbf{F}}\\mathbf{P}_{\\mathbf{v}}}}$$\n",
    "\n",
    "**<u>Non-Turbulent flow (without fittings)</u>**\n",
    "\n",
    "$$Cv\\  = \\ \\frac{\\mathbf{Q}}{\\mathbf{N}_{\\mathbf{1}}\\mathbf{F}_{\\mathbf{R}}}\\sqrt{\\frac{\\frac{\\mathbf{\\rho}_{\\mathbf{1}}}{\\mathbf{\\rho}_{\\mathbf{o}}}}{\\mathbf{\\mathrm{\\Delta}P}}}$$\n",
    "\n",
    "W in kg/hr\n",
    "\n",
    "Q in m<sup>3</sup>/hr for liquids or Nm<sup>3</sup>/hr for gases\n",
    "\n",
    "P in bar\n",
    "\n",
    "ρ in kg/m<sup>3</sup>\n",
    "\n",
    "ρ<sub>0 :</sub> 1000 kg/m<sup>3</sup>\n",
    "\n",
    "N<sub>1</sub>: 0.865\n",
    "\n",
    "\n",
    "\n",
    "**Link: [More on the Constants mentioned and developped webapp](https://www.linkedin.com/posts/ahmed-hassan-aprco_calculationsguidlines-for-control-valve-activity-7153106921200234496-Kya8/?utm_source=share&utm_medium=member_desktop)**"
   ]
  },
  {
   "cell_type": "code",
   "execution_count": 8,
   "metadata": {},
   "outputs": [
    {
     "name": "stdout",
     "output_type": "stream",
     "text": [
      "Calculated Cv is 165.00\n"
     ]
    }
   ],
   "source": [
    "viscosity = 3.1472E-4 # Viscosity of the fluid [Pa*s]\n",
    "density = 965.4 # Density of the liquid at the inlet [kg/m^3]\n",
    "P_saturation = 70.1E3 # Saturation pressure of the fluid at inlet temperature [Pa]\n",
    "P_Critical = 22120E3 # Critical pressure of the fluid [Pa]\n",
    "P_inlet = 680E3 # Inlet pressure of the fluid before valves and reducers [Pa]\n",
    "P_outlet = 220E3 # Outlet pressure of the fluid after valves and reducers [Pa]\n",
    "D1 = 0.15 # Diameter of the pipe before the valve [m]\n",
    "D2 = 0.15 # Diameter of the pipe after the valve [m]\n",
    "d = 0.15 # Diameter of the valve [m]\n",
    "Q = 0.1 # Volumetric flow rate of the fluid [m^3/s]\n",
    "\n",
    "Calculated_Cv_Liquid =fluids.size_control_valve_l(rho=density, Psat=P_saturation, Pc=P_Critical, mu=viscosity,\n",
    "P1=P_inlet, P2=P_outlet, Q=Q, D1=D1, D2=D2, d=d,FL=0.9, Fd=0.46)\n",
    "\n",
    "print('Calculated Cv is {:.2f}'.format(Calculated_Cv_Liquid))"
   ]
  },
  {
   "cell_type": "markdown",
   "metadata": {},
   "source": [
    "2. Gases <br>\n",
    "**<u>Compressible Flow</u>**\n",
    "\n",
    "**<u>Turbulent flow</u>**\n",
    "\n",
    "**<u>Non-choked flow (without fittings)</u> (ΔP/P<sub>1</sub> \\<\n",
    "F<sub>ϒ</sub>.x<sub>T</sub> )**\n",
    "\n",
    "$$Cv\\  = \\ \\frac{\\mathbf{W}}{\\mathbf{N}_{\\mathbf{6}}\\mathbf{Y}\\sqrt{\\mathbf{x}\\mathbf{P}_{\\mathbf{1}}\\mathbf{\\rho}_{\\mathbf{1}}}}$$\n",
    "\n",
    "$$Cv\\  = \\ \\frac{\\mathbf{W}}{\\mathbf{N}_{\\mathbf{8}}\\mathbf{P}_{\\mathbf{1}}\\mathbf{Y}}\\sqrt{\\frac{\\mathbf{T}_{\\mathbf{1}}\\mathbf{Z}}{\\mathbf{xM}}}$$\n",
    "\n",
    "$$Cv\\  = \\ \\frac{\\mathbf{Q}}{\\mathbf{N}_{\\mathbf{9}}\\mathbf{P}_{\\mathbf{1}}\\mathbf{Y}}\\sqrt{\\frac{\\mathbf{M}\\mathbf{T}_{\\mathbf{1}}\\mathbf{Z}}{\\mathbf{x}}}$$\n",
    "\n",
    "$$Cv\\  = \\ \\frac{\\mathbf{Q}}{\\mathbf{N}_{\\mathbf{7}}\\mathbf{P}_{\\mathbf{1}}\\mathbf{Y}}\\sqrt{\\frac{\\mathbf{Gg}\\mathbf{T}_{\\mathbf{1}}\\mathbf{Z}}{\\mathbf{x}}}$$\n",
    "\n",
    "**<u>Non-choked flow (with fittings)</u> (ΔP/P<sub>1</sub> \\<\n",
    "F<sub>ϒ</sub>.x<sub>TP</sub> )**\n",
    "\n",
    "$$Cv\\  = \\ \\frac{\\mathbf{W}}{\\mathbf{N}_{\\mathbf{6}}\\mathbf{F}_{\\mathbf{P}}\\mathbf{Y}\\sqrt{\\mathbf{x}\\mathbf{P}_{\\mathbf{1}}\\mathbf{\\rho}_{\\mathbf{1}}}}$$\n",
    "\n",
    "$$Cv\\  = \\ \\frac{\\mathbf{W}}{\\mathbf{N}_{\\mathbf{8}}{\\mathbf{F}_{\\mathbf{P}}\\mathbf{P}}_{\\mathbf{1}}\\mathbf{Y}}\\sqrt{\\frac{\\mathbf{T}_{\\mathbf{1}}\\mathbf{Z}}{\\mathbf{xM}}}$$\n",
    "\n",
    "$$Cv\\  = \\ \\frac{\\mathbf{Q}}{\\mathbf{N}_{\\mathbf{9}}{\\mathbf{F}_{\\mathbf{P}}\\mathbf{P}}_{\\mathbf{1}}\\mathbf{Y}}\\sqrt{\\frac{\\mathbf{M}\\mathbf{T}_{\\mathbf{1}}\\mathbf{Z}}{\\mathbf{x}}}$$\n",
    "\n",
    "$$Cv\\  = \\ \\frac{\\mathbf{Q}}{\\mathbf{N}_{\\mathbf{7}}{\\mathbf{F}_{\\mathbf{P}}\\mathbf{P}}_{\\mathbf{1}}\\mathbf{Y}}\\sqrt{\\frac{\\mathbf{Gg}\\mathbf{T}_{\\mathbf{1}}\\mathbf{Z}}{\\mathbf{x}}}$$\n",
    "\n",
    "**<u>Choked flow (without fittings)</u> (ΔP/P<sub>1</sub>\\>\n",
    "F<sub>ϒ</sub>.x<sub>TP</sub> )**\n",
    "\n",
    "$$Cv\\  = \\ \\frac{\\mathbf{W}}{\\mathbf{0.667*N}_{\\mathbf{6}}\\sqrt{\\mathbf{F}_{\\mathbf{\\mathrm{\\Upsilon}}}\\mathbf{x}_{\\mathbf{T}}\\mathbf{P}_{\\mathbf{1}}\\mathbf{\\rho}_{\\mathbf{1}}}}$$\n",
    "\n",
    "$$Cv\\  = \\ \\frac{\\mathbf{W}}{\\mathbf{0.667*}\\mathbf{N}_{\\mathbf{8}}\\mathbf{P}_{\\mathbf{1}}}\\sqrt{\\frac{\\mathbf{T}_{\\mathbf{1}}\\mathbf{Z}}{\\mathbf{F}_{\\mathbf{\\mathrm{\\Upsilon}}}\\mathbf{x}_{\\mathbf{T}}\\mathbf{M}}}$$\n",
    "\n",
    "$$Cv\\  = \\ \\frac{\\mathbf{Q}}{\\mathbf{0.667*}\\mathbf{N}_{\\mathbf{9}}\\mathbf{P}_{\\mathbf{1}}}\\sqrt{\\frac{\\mathbf{M}\\mathbf{T}_{\\mathbf{1}}\\mathbf{Z}}{\\mathbf{F}_{\\mathbf{\\mathrm{\\Upsilon}}}\\mathbf{x}_{\\mathbf{T}}}}$$\n",
    "\n",
    "$$Cv\\  = \\ \\frac{\\mathbf{Q}}{\\mathbf{0.667*N}_{\\mathbf{7}}\\mathbf{P}_{\\mathbf{1}}}\\sqrt{\\frac{\\mathbf{Gg}\\mathbf{T}_{\\mathbf{1}}\\mathbf{Z}}{\\mathbf{F}_{\\mathbf{\\mathrm{\\Upsilon}}}\\mathbf{x}_{\\mathbf{T}}}}$$\n",
    "\n",
    "**<u>Choked flow (with fittings)</u> (ΔP \\>\n",
    "(F<sub>LP</sub>/F<sub>p</sub>)\n",
    "<sup>2</sup>(P<sub>1</sub>-F<sub>F</sub>P<sub>v</sub>) )**\n",
    "\n",
    "$$Cv\\  = \\ \\frac{\\mathbf{W}}{{\\mathbf{0.667*}\\mathbf{F}_{\\mathbf{P}}\\mathbf{N}}_{\\mathbf{6}}\\sqrt{\\mathbf{F}_{\\mathbf{\\mathrm{\\Upsilon}}}\\mathbf{x}_{\\mathbf{T}}\\mathbf{P}_{\\mathbf{1}}\\mathbf{\\rho}_{\\mathbf{1}}}}$$\n",
    "\n",
    "$$Cv\\  = \\ \\frac{\\mathbf{W}}{\\mathbf{0.667*}\\mathbf{F}_{\\mathbf{P}}\\mathbf{N}_{\\mathbf{8}}\\mathbf{P}_{\\mathbf{1}}}\\sqrt{\\frac{\\mathbf{T}_{\\mathbf{1}}\\mathbf{Z}}{\\mathbf{F}_{\\mathbf{\\mathrm{\\Upsilon}}}\\mathbf{x}_{\\mathbf{T}}\\mathbf{M}}}$$\n",
    "\n",
    "$$Cv\\  = \\ \\frac{\\mathbf{Q}}{\\mathbf{0.667*}\\mathbf{F}_{\\mathbf{P}}\\mathbf{N}_{\\mathbf{9}}\\mathbf{P}_{\\mathbf{1}}}\\sqrt{\\frac{\\mathbf{M}\\mathbf{T}_{\\mathbf{1}}\\mathbf{Z}}{\\mathbf{F}_{\\mathbf{\\mathrm{\\Upsilon}}}\\mathbf{x}_{\\mathbf{T}}}}$$\n",
    "\n",
    "$$Cv\\  = \\ \\frac{\\mathbf{Q}}{{\\mathbf{0.667*}\\mathbf{F}_{\\mathbf{P}}\\mathbf{N}}_{\\mathbf{7}}\\mathbf{P}_{\\mathbf{1}}}\\sqrt{\\frac{\\mathbf{Gg}\\mathbf{T}_{\\mathbf{1}}\\mathbf{Z}}{\\mathbf{F}_{\\mathbf{\\mathrm{\\Upsilon}}}\\mathbf{x}_{\\mathbf{T}}}}$$\n",
    "\n",
    "**<u>Non-Turbulent flow (without fittings)</u>**\n",
    "\n",
    "$$Cv\\  = \\ \\frac{\\mathbf{W}}{\\mathbf{N}_{\\mathbf{27}}\\mathbf{F}_{\\mathbf{R}}}\\sqrt{\\frac{\\mathbf{T}_{\\mathbf{1}}}{\\mathbf{\\Delta P}\\left( \\mathbf{P}_{\\mathbf{1}}\\mathbf{+}\\mathbf{P}_{\\mathbf{2}} \\right)\\mathbf{M}}}$$\n",
    "\n",
    "$$Cv\\  = \\ \\frac{\\mathbf{Q}}{\\mathbf{N}_{\\mathbf{22}}\\mathbf{F}_{\\mathbf{R}}}\\sqrt{\\frac{\\mathbf{M}\\mathbf{T}_{\\mathbf{1}}}{\\mathbf{\\Delta P}\\left( \\mathbf{P}_{\\mathbf{1}}\\mathbf{+}\\mathbf{P}_{\\mathbf{2}} \\right)}}$$\n",
    "\n",
    "W in kg/hr\n",
    "\n",
    "Q in m<sup>3</sup>/hr for liquids \n",
    "\n",
    "P in bar\n",
    "\n",
    "ρ in kg/m<sup>3</sup>\n",
    "\n",
    "\n",
    "\n",
    "N<sub>6</sub> : 27.3\n",
    "\n",
    "N<sub>7</sub> : 417\n",
    "\n",
    "N<sub>8</sub> : 94.8\n",
    "\n",
    "N<sub>9</sub> : 2120\n",
    "\n",
    "N<sub>27</sub>: 0.67\n",
    "\n",
    "N<sub>22</sub>: 1500\n",
    "\n",
    "**Link: [More on the Constants mentioned and developped webapp](https://www.linkedin.com/posts/ahmed-hassan-aprco_calculationsguidlines-for-control-valve-activity-7153106921200234496-Kya8/?utm_source=share&utm_medium=member_desktop)**"
   ]
  },
  {
   "cell_type": "code",
   "execution_count": 9,
   "metadata": {},
   "outputs": [
    {
     "name": "stdout",
     "output_type": "stream",
     "text": [
      "Calculated Cv is 72.59\n"
     ]
    }
   ],
   "source": [
    "Q = 38/36 # Volumetric flow rate of the gas at 273.15 K and 1 atm specifically [Nm^3/s]\n",
    "m_wt = 44.01 # Molecular weight of the gas [g/mol]\n",
    "viscosity = 1.4665E-4 # Viscosity of the fluid at inlet conditions [Pa*s]\n",
    "compressibility_factor = 0.988 # Compressibility factor at inlet conditions, [-]\n",
    "k = 1.3 # Specific heat capacity ratio [-]\n",
    "T_inlet = 159.85+273.15  # Temperature of the gas at the inlet [K]\n",
    "P1 = 680E3 # Inlet pressure of the gas before valves and reducers [Pa]\n",
    "P2 = 310E3 # Outlet pressure of the gas after valves and reducers [Pa]\n",
    "D1 = 0.08 # Diameter of the pipe before the valve [m]\n",
    "D2 = 0.1 # Diameter of the pipe after the valve [m]\n",
    "d = 0.05 # Diameter of the valve [m]\n",
    "\n",
    "Calculated_Cv_gas =fluids.size_control_valve_g(T=T_inlet, MW=m_wt, mu=viscosity, gamma= k,\n",
    "                                                Z=compressibility_factor, P1=P1, P2=P2, Q=Q, D1=D1, D2=D2, d=d,\n",
    "                                                FL=0.85, Fd=0.42, xT=0.60)\n",
    "print('Calculated Cv is {:.2f}'.format(Calculated_Cv_gas))"
   ]
  },
  {
   "cell_type": "markdown",
   "metadata": {},
   "source": [
    "**Safety Relief Sizing** <br>\n",
    "**Link: [More on the Calculations mentioned and developped webapp](https://www.linkedin.com/feed/update/urn:li:activity:7207477603044175872/)**\n",
    "1. ***<u>Gases</u>*** <br>\n",
    "\n",
    "Example 1 from API Standard 520, Part 1 - Sizing and Selection for critical flow\n",
    "***<u>Gases</u>***\n",
    "\n",
    "$$\\frac{P_{Cf}}{P_{1}} = \\left\\lbrack \\frac{2}{k + 1} \\right\\rbrack^{\\frac{k}{k - 1}}$$\n",
    "\n",
    "***<u>Subcritical Flow</u>***\n",
    "\n",
    "$$A = \\ \\frac{17.9*W*\\sqrt{TZ}}{F_{2}K_{d}K_{c}\\sqrt{MP_{1}(P_{1} - P_{2})}}$$\n",
    "\n",
    "$$A = \\ \\frac{1.998*Q*\\sqrt{TMZ}}{F_{2}K_{d}K_{c}\\sqrt{P_{1}(P_{1} - P_{2})}}$$\n",
    "\n",
    "$$A = \\ \\frac{10.75*Q*\\sqrt{TGZ}}{F_{2}K_{d}K_{c}\\sqrt{P_{1}(P_{1} - P_{2})}}$$\n",
    "\n",
    "***<u>Critical Flow</u>***\n",
    "\n",
    "$$A = \\ \\frac{13.160*W*\\sqrt{TZ}}{CK_{d}P_{1}K_{b}K_{c}\\sqrt{M}}$$\n",
    "\n",
    "$$A = \\ \\frac{1.46875*Q*\\sqrt{TMZ}}{CK_{d}P_{1}K_{b}K_{c}}$$\n",
    "\n",
    "$$A = \\ \\frac{7.90625*Q*\\sqrt{TGZ}}{CK_{d}P_{1}K_{b}K_{c}}$$"
   ]
  },
  {
   "cell_type": "code",
   "execution_count": 10,
   "metadata": {},
   "outputs": [],
   "source": [
    "from fluids.safety_valve import API526_letters,API526_A"
   ]
  },
  {
   "cell_type": "code",
   "execution_count": 11,
   "metadata": {},
   "outputs": [
    {
     "name": "stdout",
     "output_type": "stream",
     "text": [
      "Calculated P Critical is 390.33kPa\n",
      "While Back Pressure is 101.23kPa\n",
      "Critical Flow\n",
      "C = 0.02\n",
      "Calculated Orifice Area is 36.99 cm²\n",
      "Selected Orifice Area is 41.16 cm²\n",
      "PSV Letter: P\n"
     ]
    }
   ],
   "source": [
    "mass_flow = 24270/3600. # relieved load at kg/s\n",
    "relief_temperature = 74.85 + 273.15 # K\n",
    "compressibility_factor = 0.9 \n",
    "m_wt = 51\n",
    "k = 1.11 # Isentropic coefficient or ideal gas heat capacity ratio [-]\n",
    "relief_pressure = 670E3 # Upstream relieving pressure; the set pressure plus the allowable overpressure, plus atmospheric pressure, [Pa]\n",
    "back_pressure = 101.23E3\n",
    "\n",
    "critical_P = fluids.compressible.P_critical_flow(relief_pressure,k)\n",
    "is_critical =fluids.compressible.is_critical_flow(relief_pressure, back_pressure, k)\n",
    "print('Calculated P Critical is {:0.2f}kPa\\nWhile Back Pressure is {:0.2f}kPa'.format(critical_P/1000,back_pressure/1000))\n",
    "if is_critical:\n",
    "    print('Critical Flow')\n",
    "    C = fluids.safety_valve.API520_C(k)\n",
    "    print('C = {:0.2f}'.format(C))\n",
    "else:\n",
    "    print('Sub-Critical Flow')\n",
    "    F2 = fluids.safety_valve.API520_F2(k, relief_pressure, back_pressure)\n",
    "    print('F2 = {:.2f}'.format(F2))\n",
    "\n",
    "Safety_valve_orifice = fluids.safety_valve.API520_A_g(m=mass_flow, T=relief_temperature, Z=compressibility_factor, MW=m_wt, k=k, P1=relief_pressure,P2=back_pressure, Kd=0.975,Kb=1, Kc=1)*1E4 # Cm2\n",
    "selected_orifice_size = fluids.safety_valve.API520_round_size(Safety_valve_orifice/1E4)*1E4 \n",
    "Orifice_Letter = API526_letters[API526_A.index(selected_orifice_size/1E4)]\n",
    "\n",
    "print('Calculated Orifice Area is {:0.2f} cm²\\nSelected Orifice Area is {:.2f} cm²'.format(Safety_valve_orifice,selected_orifice_size))\n",
    "print('PSV Letter: {}'.format(Orifice_Letter))"
   ]
  },
  {
   "cell_type": "markdown",
   "metadata": {},
   "source": [
    "2. ***<u>Steam</u>*** <br>\n",
    "\n",
    "Example 4 from the 10th edition of API Standard 520, Part 1 - Sizing and Selection:\n",
    "\n",
    "$$A = \\ \\frac{190.4*W}{P_{1}K_{d}{K_{sh}K}_{N}K_{b}K_{c}}$$\n",
    "\n",
    "W in kg/hr, A in mm<sup>2</sup>, Pressures in kPa, T in kelvin, Q in\n",
    "m<sup>3</sup>/hr for liquids and Nm<sup>3</sup>/hr for gases\n",
    "\n",
    "G is specific gravity and k is heat capacity ratio.\n",
    "\n",
    "\n"
   ]
  },
  {
   "cell_type": "code",
   "execution_count": 12,
   "metadata": {},
   "outputs": [
    {
     "name": "stdout",
     "output_type": "stream",
     "text": [
      "Calculated Orifice Area is 12.85 cm²\n",
      "Selected Orifice Area is 18.41 cm²\n",
      "PSV Letter: L\n"
     ]
    }
   ],
   "source": [
    "mass_flow = 69615/3600 # relieved load at kg/s\n",
    "relief_temperature = 433.8889 + 273.15 # K\n",
    "relief_pressure = 12236E3 # Upstream relieving pressure; the set pressure plus the allowable overpressure, plus atmospheric pressure, [Pa]\n",
    "\n",
    "\n",
    "Safety_valve_orifice = fluids.safety_valve.API520_A_steam(m=mass_flow, T=relief_temperature, P1=relief_pressure, Kd=0.975, Kb=1, Kc=1, edition='10E')*1E4 # Cm2\n",
    "selected_orifice_size = fluids.safety_valve.API520_round_size(Safety_valve_orifice/1E4)*1E4 \n",
    "Orifice_Letter = API526_letters[API526_A.index(selected_orifice_size/1E4)]\n",
    "\n",
    "print('Calculated Orifice Area is {:0.2f} cm²\\nSelected Orifice Area is {:.2f} cm²'.format(Safety_valve_orifice,selected_orifice_size))\n",
    "print('PSV Letter: {}'.format(Orifice_Letter))"
   ]
  },
  {
   "cell_type": "markdown",
   "metadata": {},
   "source": [
    "3. ***<u>Liquids</u>*** <br>\n",
    "\n",
    "Example 5 in API Standard 520, Part 1 - Sizing and Selection., 10th edition. The calculation involves numerous steps, shown below and ending with a recalculation with a viscosity correction. <br>\n",
    "\n",
    "\n",
    "$$A = \\ \\frac{196.33Q\\sqrt{G}}{K_{d}K_{w}\\ K_{v}K_{c}K_{p}\\sqrt{P_{1} - P_{2}}}$$\n",
    "W in kg/hr, A in mm<sup>2</sup>, Pressures in kPa, T in kelvin, Q in\n",
    "m<sup>3</sup>/hr for liquids and Nm<sup>3</sup>/hr for gases\n",
    "\n",
    "G is specific gravity and k is heat capacity ratio."
   ]
  },
  {
   "cell_type": "code",
   "execution_count": 13,
   "metadata": {},
   "outputs": [
    {
     "name": "stdout",
     "output_type": "stream",
     "text": [
      "Calculated Orifice Area is 30.66 cm²\n",
      "Selected Orifice Area is 41.16 cm²\n",
      "PSV Letter: P\n"
     ]
    }
   ],
   "source": [
    "Q = 6814*1.6666666666666667e-05 # L/min to m^3/s\n",
    "rho = 0.9*999 # specific gravity times density of water kg/m^3\n",
    "m = rho*Q # mass flow rate, kg/s\n",
    "overpressure = 0.1 # Assumed 10% Overpressure\n",
    "P_design_g = 1724E3 # design pressure, Pa.guage\n",
    "P1 = (1+overpressure)*P_design_g + 101325.0 # upstream relieving pressure, Pa\n",
    "backpressure = 0.2\n",
    "mu = 0.388 # viscosity, Pa*s, converted from 2000 Saybolt Universal Seconds\n",
    "P2 = backpressure*P_design_g + 101325.0 # backpressure, Pa\n",
    "\n",
    "Safety_valve_orifice =  fluids.safety_valve.API520_A_l(m=m, rho=rho, P1=P1, P2=P2, overpressure=overpressure, Kd=0.65, Kw=0.97, Kc=1.0, Kv=1.0)*1E4 # Cm2\n",
    "selected_orifice_size = fluids.safety_valve.API520_round_size(Safety_valve_orifice/1E4)*1E4 \n",
    "Orifice_Letter = API526_letters[API526_A.index(selected_orifice_size/1E4)]\n",
    "\n",
    "print('Calculated Orifice Area is {:0.2f} cm²\\nSelected Orifice Area is {:.2f} cm²'.format(Safety_valve_orifice,selected_orifice_size))\n",
    "print('PSV Letter: {}'.format(Orifice_Letter))"
   ]
  },
  {
   "cell_type": "markdown",
   "metadata": {},
   "source": [
    "**Orifice Sizing**"
   ]
  },
  {
   "cell_type": "code",
   "execution_count": 14,
   "metadata": {},
   "outputs": [
    {
     "name": "stdout",
     "output_type": "stream",
     "text": [
      "result for the Estimate Orifice Diameter Case is 0.05 m\n"
     ]
    }
   ],
   "source": [
    "mass_flow = 27720/3600   # kg/s\n",
    "D_upstream = 0.07366     # Upstream internal pipe diameter, [m]\n",
    "D_Orifice = 0.05         #Diameter of orifice, or venturi meter orifice, or flow tube orifice, or cone meter end diameter, or wedge meter fluid flow height, [m]\n",
    "P_upstream  = 200000.0   # Static pressure of fluid upstream of differential pressure meter at the cross-section of the pressure tap, [Pa]\n",
    "P_downstream = 183000.0  # Static pressure of fluid downstream of differential pressure meter or at the prescribed location (varies by type of meter) [Pa]\n",
    "\n",
    "Density =999.1 # kg/m3\n",
    "viscosity = 0.0011  # Pa.s\n",
    "k = 1.33 # Isentropic exponent of fluid; required unless epsilon_specified is specified , [-]\n",
    "\n",
    "Case = 'Estimate Orifice Diameter'\n",
    "if Case == 'Estimate Mass Flow Rate':\n",
    "    m = None\n",
    "    unit = 'kg/s'\n",
    "elif Case == 'Estimate Downstream pressure':\n",
    "    P_downstream = None \n",
    "    unit = 'Pa'\n",
    "elif Case == 'Estimate Upstream pressure':\n",
    "    P_upstream = None \n",
    "    unit = 'Pa'\n",
    "elif Case == 'Estimate Orifice Diameter':\n",
    "    D_Orifice =  None \n",
    "    unit = 'm'\n",
    "result = fluids.flow_meter.differential_pressure_meter_solver(m=mass_flow,D=D_upstream, D2=D_Orifice, P1=P_upstream,\n",
    "P2=P_downstream, rho=Density, mu=viscosity, k=k,\n",
    "meter_type='ISO 5167 orifice', taps='D') # the result is the mass flow rate\n",
    "print('result for the {} Case is {:0.2f} {}'.format(Case,result,unit))"
   ]
  },
  {
   "cell_type": "markdown",
   "metadata": {},
   "source": [
    "\n",
    "**<u>Heat Exchangers Rating</u>**\n",
    "\n",
    "$Q = F_{t}UA{\\mathrm{\\Delta}T}_{LMTD} = mC_{p}\\mathrm{\\Delta}T$ Assuming\n",
    "no phase change\n",
    "\n",
    "$${\\mathrm{\\Delta}T}_{LMTD} = \\ \\frac{{\\mathrm{\\Delta}T}_{1} - {\\mathrm{\\Delta}T}_{2}}{\\ln\\frac{{\\mathrm{\\Delta}T}_{1}}{{\\mathrm{\\Delta}T}_{2}}}$$\n",
    "\n",
    "$${\\mathrm{\\Delta}T}_{1} = T_{1} - t_{2}$$\n",
    "\n",
    "$${\\mathrm{\\Delta}T}_{2} = T_{2} - t_{1}$$\n",
    "\n",
    "$$R = \\frac{T_{1} - T_{2}}{t_{1} - t_{2}}$$\n",
    "\n",
    "$$S = \\frac{t_{2} - t_{1}}{T_{1} - t_{2}}\\ $$\n",
    "\n",
    "$$F_{t} = \\frac{\\sqrt{R^{2} + 1}*\\ln{(\\frac{1 - S}{1 - R})}}{(R - 1)*\\ln{(\\frac{2 - S(R + 1 - \\sqrt{R^{2} + 1})}{2 - S(R + 1 + \\sqrt{R^{2} + 1})})}}\\ $$\n",
    "\n",
    "Given Flow rates, Temperatures in and out (T for Hot and t for Cold) and\n",
    "the exchanger Area A\n",
    "\n",
    "We Could Estimate U and compare it to the design values\n",
    "\n",
    "$$Over\\ Design\\ OD\\% = \\ \\frac{U_{Actual} - U_{required}}{U_{required}}*100\\%$$\n",
    "\n",
    "T in <sup>o</sup>C, U in kj/hr.m<sup>2</sup>.<sup>o</sup>C, kj/kg.\n",
    "<sup>o</sup>C, A in m<sup>2</sup>\n",
    "\n",
    "**Link: [More on Shell and tube heat exchangers' Sizing and Rating and developped webapp](https://www.linkedin.com/posts/ahmed-hassan-aprco_shell-and-tube-sizing-and-rating-calculations-activity-7106368828766363648-pa2m/?utm_source=share&utm_medium=member_desktop)**\n",
    "\n",
    "**More on Shell and tube heat exchangers' Sizing and Rating: [Energy and Process Optimization for the Process Industries, Chapter 6:Heat Exchanger Performance Assessment](https://www.wiley.com/en-us/Energy+and+Process+Optimization+for+the+Process+Industries-p-9781118782507)**"
   ]
  },
  {
   "cell_type": "code",
   "execution_count": 30,
   "metadata": {},
   "outputs": [
    {
     "name": "stdout",
     "output_type": "stream",
     "text": [
      "Minimum Approach is 9.97 C\n",
      "logarithmic mean temperature difference (Uncorrected) 14.41\n",
      "Correction Factor Ft 0.80\n",
      "logarithmic mean temperature difference (Corrected) 11.59\n",
      "Calculated Duty 2091500.00 kJ/hr\n",
      "Calaulated UA 180516.26 kJ/C.h\n",
      "Calaulated U 2992.64 kJ/C.h.m2\n",
      "Calaulated Over Design is 3.59 %\n"
     ]
    }
   ],
   "source": [
    "Hot_inlet_T,Hot_outlet_T = 45,35\n",
    "Cold_inlet_T,Cold_outlet_T = 15,35.03\n",
    "Cold_flow_rate = 25000 #kg/hr\n",
    "Hot_flow_rate = 50000 #kg/hr\n",
    "number_of_shells = 1 # Number of shell-side passes\n",
    "Cold_Cp = 4.179 #kJ/kg.C\n",
    "Hot_Cp = 4.183\n",
    "A = 60.32\n",
    "U_actual = 3100 #kJ/C.h.m2 actual value from U Calculations\n",
    "\n",
    "minimum_approach = min(Hot_inlet_T-Cold_outlet_T,Hot_outlet_T-Cold_inlet_T)\n",
    "\n",
    "dTlm = ht.LMTD(Tci=Cold_inlet_T, Tco=Cold_outlet_T, Thi=Hot_inlet_T, Tho=Hot_outlet_T)\n",
    "\n",
    "Ft = ht.F_LMTD_Fakheri(Tci=Cold_inlet_T, Tco=Cold_outlet_T, Thi=Hot_inlet_T, Tho=Hot_outlet_T, shells=number_of_shells)\n",
    "\n",
    "Q = Hot_flow_rate*Hot_Cp*(Hot_inlet_T-Hot_outlet_T) #kJ/hr\n",
    "\n",
    "UA = Q/(dTlm*Ft) #kJ/C.h\n",
    "\n",
    "U_required = UA/A \n",
    "\n",
    "Over_Design = (U_actual-U_required)*100/U_required\n",
    "\n",
    "print('Minimum Approach is {:0.2f} C'.format(minimum_approach))\n",
    "print('logarithmic mean temperature difference (Uncorrected) {:0.2f}'.format(dTlm))\n",
    "print('Correction Factor Ft {:0.2f}'.format(Ft))\n",
    "print('logarithmic mean temperature difference (Corrected) {:0.2f}'.format(dTlm*Ft))\n",
    "print('Calculated Duty {:0.2f} kJ/hr'.format(Q))\n",
    "print('Calaulated UA {:0.2f} kJ/C.h'.format(UA))\n",
    "print('Calaulated U {:0.2f} kJ/C.h.m2'.format(U_required))\n",
    "print('Calaulated Over Design is {:0.2f} %'.format(Over_Design))\n",
    "\n"
   ]
  },
  {
   "cell_type": "markdown",
   "metadata": {},
   "source": [
    "**The NTU method**\n",
    "\n",
    "The NTU Method is very useful when the log mean temperature difference (LMTD) is not available. <br>\n",
    "Could be used to estimate the expected outlet temperatures of the Heat Exchanger <br>\n",
    "Or, Given all Temperatures, inlets and outlets, Could be used to estimate the heat exchanger Effectivenss. <br>\n",
    "The effectiveness is the ratio between the heat transfered and maximum possible heat transfer "
   ]
  },
  {
   "cell_type": "code",
   "execution_count": 31,
   "metadata": {},
   "outputs": [
    {
     "data": {
      "text/html": [
       "<div>\n",
       "<style scoped>\n",
       "    .dataframe tbody tr th:only-of-type {\n",
       "        vertical-align: middle;\n",
       "    }\n",
       "\n",
       "    .dataframe tbody tr th {\n",
       "        vertical-align: top;\n",
       "    }\n",
       "\n",
       "    .dataframe thead th {\n",
       "        text-align: right;\n",
       "    }\n",
       "</style>\n",
       "<table border=\"1\" class=\"dataframe\">\n",
       "  <thead>\n",
       "    <tr style=\"text-align: right;\">\n",
       "      <th></th>\n",
       "      <th>Q</th>\n",
       "      <th>UA</th>\n",
       "      <th>Cr</th>\n",
       "      <th>Cmin</th>\n",
       "      <th>Cmax</th>\n",
       "      <th>effectiveness</th>\n",
       "      <th>NTU</th>\n",
       "      <th>Thi</th>\n",
       "      <th>Tho</th>\n",
       "      <th>Tci</th>\n",
       "      <th>Tco</th>\n",
       "    </tr>\n",
       "  </thead>\n",
       "  <tbody>\n",
       "    <tr>\n",
       "      <th>Desired</th>\n",
       "      <td>161425.363934</td>\n",
       "      <td>13928.723841</td>\n",
       "      <td>0.138756</td>\n",
       "      <td>8061.342593</td>\n",
       "      <td>16138.117285</td>\n",
       "      <td>0.667488</td>\n",
       "      <td>1.727842</td>\n",
       "      <td>45</td>\n",
       "      <td>34.997262</td>\n",
       "      <td>15</td>\n",
       "      <td>35.024625</td>\n",
       "    </tr>\n",
       "    <tr>\n",
       "      <th>Design/Service</th>\n",
       "      <td>163021.449187</td>\n",
       "      <td>14428.395064</td>\n",
       "      <td>0.138756</td>\n",
       "      <td>8061.342593</td>\n",
       "      <td>16138.117285</td>\n",
       "      <td>0.674087</td>\n",
       "      <td>1.789825</td>\n",
       "      <td>45</td>\n",
       "      <td>34.898360</td>\n",
       "      <td>15</td>\n",
       "      <td>35.222618</td>\n",
       "    </tr>\n",
       "  </tbody>\n",
       "</table>\n",
       "</div>"
      ],
      "text/plain": [
       "                            Q            UA        Cr         Cmin  \\\n",
       "Desired         161425.363934  13928.723841  0.138756  8061.342593   \n",
       "Design/Service  163021.449187  14428.395064  0.138756  8061.342593   \n",
       "\n",
       "                        Cmax  effectiveness       NTU  Thi        Tho  Tci  \\\n",
       "Desired         16138.117285       0.667488  1.727842   45  34.997262   15   \n",
       "Design/Service  16138.117285       0.674087  1.789825   45  34.898360   15   \n",
       "\n",
       "                      Tco  \n",
       "Desired         35.024625  \n",
       "Design/Service  35.222618  "
      ]
     },
     "execution_count": 31,
     "metadata": {},
     "output_type": "execute_result"
    }
   ],
   "source": [
    "NTU_Method = ht.effectiveness_NTU_method(mh=Hot_flow_rate/3600, mc=Cold_flow_rate/3600, Cph=Hot_Cp*1000, Cpc=Cold_Cp*1000,subtype='S&T', Tci=Cold_inlet_T, Thi=Hot_inlet_T,UA=UA* 0.2777777778)\n",
    "for i in range(5):\n",
    "    column = list(NTU_Method.keys())[i]\n",
    "    NTU_Method[column] = NTU_Method[column] * 0.2777777778\n",
    "actual_df = pd.DataFrame(NTU_Method,index=['Desired'])\n",
    "NTU_Method = ht.effectiveness_NTU_method(mh=Hot_flow_rate/3600, mc=Cold_flow_rate/3600, Cph=Hot_Cp*1000, Cpc=Cold_Cp*1000,subtype='S&T', Tci=Cold_inlet_T, Thi=Hot_inlet_T,UA=U_actual*A* 0.2777777778)\n",
    "for i in range(5):\n",
    "    column = list(NTU_Method.keys())[i]\n",
    "    NTU_Method[column] = NTU_Method[column] * 0.2777777778\n",
    "service_df = pd.DataFrame(NTU_Method,index=['Design/Service'])\n",
    "pd.concat([actual_df,service_df])"
   ]
  }
 ],
 "metadata": {
  "kernelspec": {
   "display_name": "base",
   "language": "python",
   "name": "python3"
  },
  "language_info": {
   "codemirror_mode": {
    "name": "ipython",
    "version": 3
   },
   "file_extension": ".py",
   "mimetype": "text/x-python",
   "name": "python",
   "nbconvert_exporter": "python",
   "pygments_lexer": "ipython3",
   "version": "3.8.16"
  }
 },
 "nbformat": 4,
 "nbformat_minor": 2
}
